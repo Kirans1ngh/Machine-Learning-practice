{
  "nbformat": 4,
  "nbformat_minor": 0,
  "metadata": {
    "colab": {
      "provenance": [],
      "authorship_tag": "ABX9TyPUEYQuTRU1eeA96w0gXVMP",
      "include_colab_link": true
    },
    "kernelspec": {
      "name": "python3",
      "display_name": "Python 3"
    },
    "language_info": {
      "name": "python"
    }
  },
  "cells": [
    {
      "cell_type": "markdown",
      "metadata": {
        "id": "view-in-github",
        "colab_type": "text"
      },
      "source": [
        "<a href=\"https://colab.research.google.com/github/Kirans1ngh/Machine-Learning-practice/blob/main/Data%20Preprocessing/pd_and_np_operations.ipynb\" target=\"_parent\"><img src=\"https://colab.research.google.com/assets/colab-badge.svg\" alt=\"Open In Colab\"/></a>"
      ]
    },
    {
      "cell_type": "code",
      "source": [
        "import pandas as pd\n",
        "import numpy as np"
      ],
      "metadata": {
        "id": "2JQfgaIswbdy"
      },
      "execution_count": 54,
      "outputs": []
    },
    {
      "cell_type": "code",
      "execution_count": 55,
      "metadata": {
        "id": "544DVDJuwVEQ"
      },
      "outputs": [],
      "source": [
        "exam_data = {'name': ['Anastasia', 'Dima', 'Katherine', 'James', 'Emily', 'Michael', 'Matthew', 'Laura', 'Kevin', 'Jonas'],\n",
        "'score': [12.5, 9, 16.5, np.nan, 9, 20, 14.5, np.nan, 8, 19],\n",
        "'attempts': [1, 3, 2, 3, 2, 3, 1, 1, 2, 1],\n",
        "'qualify': ['yes', 'no', 'yes', 'no', 'no', 'yes', 'yes', 'no', 'no', 'yes']}\n",
        "labels = ['a', 'b', 'c', 'd', 'e', 'f', 'g', 'h', 'i', 'j']"
      ]
    },
    {
      "cell_type": "code",
      "source": [
        "#Q1. Write a Python program to create and display a DataFrame from a specified dictionary data which has the index labels.\n",
        "df = pd.DataFrame(exam_data, index = labels)\n",
        "print(df)"
      ],
      "metadata": {
        "colab": {
          "base_uri": "https://localhost:8080/"
        },
        "id": "BN2QWTRCwk-r",
        "outputId": "8e52338b-b57c-4689-b104-74f788105b13"
      },
      "execution_count": 56,
      "outputs": [
        {
          "output_type": "stream",
          "name": "stdout",
          "text": [
            "        name  score  attempts qualify\n",
            "a  Anastasia   12.5         1     yes\n",
            "b       Dima    9.0         3      no\n",
            "c  Katherine   16.5         2     yes\n",
            "d      James    NaN         3      no\n",
            "e      Emily    9.0         2      no\n",
            "f    Michael   20.0         3     yes\n",
            "g    Matthew   14.5         1     yes\n",
            "h      Laura    NaN         1      no\n",
            "i      Kevin    8.0         2      no\n",
            "j      Jonas   19.0         1     yes\n"
          ]
        }
      ]
    },
    {
      "cell_type": "code",
      "source": [
        "#Q2. Write a Python program to display a summary of the basic information about a specified DataFrame and its data\n",
        "df.info()"
      ],
      "metadata": {
        "colab": {
          "base_uri": "https://localhost:8080/"
        },
        "id": "KRF6ApldxM-a",
        "outputId": "bb62c7e7-c360-49fe-f111-7c9e08c44526"
      },
      "execution_count": 57,
      "outputs": [
        {
          "output_type": "stream",
          "name": "stdout",
          "text": [
            "<class 'pandas.core.frame.DataFrame'>\n",
            "Index: 10 entries, a to j\n",
            "Data columns (total 4 columns):\n",
            " #   Column    Non-Null Count  Dtype  \n",
            "---  ------    --------------  -----  \n",
            " 0   name      10 non-null     object \n",
            " 1   score     8 non-null      float64\n",
            " 2   attempts  10 non-null     int64  \n",
            " 3   qualify   10 non-null     object \n",
            "dtypes: float64(1), int64(1), object(2)\n",
            "memory usage: 400.0+ bytes\n"
          ]
        }
      ]
    },
    {
      "cell_type": "code",
      "source": [
        "#Q3. Write a Python program to get the first 3 rows of a given DataFrame.\n",
        "print(df.head(3))"
      ],
      "metadata": {
        "colab": {
          "base_uri": "https://localhost:8080/"
        },
        "id": "SGwUYX5Rx4r_",
        "outputId": "f5825fa5-4c9a-4475-96e4-b3eefefb74ec"
      },
      "execution_count": 58,
      "outputs": [
        {
          "output_type": "stream",
          "name": "stdout",
          "text": [
            "        name  score  attempts qualify\n",
            "a  Anastasia   12.5         1     yes\n",
            "b       Dima    9.0         3      no\n",
            "c  Katherine   16.5         2     yes\n"
          ]
        }
      ]
    },
    {
      "cell_type": "code",
      "source": [
        "#Q4. Write a Python program to select the 'name' and 'score' columns from the following DataFrame\n",
        "print(df[['name', \"score\"]])"
      ],
      "metadata": {
        "colab": {
          "base_uri": "https://localhost:8080/"
        },
        "id": "D2x_SMF8ypPc",
        "outputId": "6e447307-4201-4b19-9217-296f6c359090"
      },
      "execution_count": 59,
      "outputs": [
        {
          "output_type": "stream",
          "name": "stdout",
          "text": [
            "        name  score\n",
            "a  Anastasia   12.5\n",
            "b       Dima    9.0\n",
            "c  Katherine   16.5\n",
            "d      James    NaN\n",
            "e      Emily    9.0\n",
            "f    Michael   20.0\n",
            "g    Matthew   14.5\n",
            "h      Laura    NaN\n",
            "i      Kevin    8.0\n",
            "j      Jonas   19.0\n"
          ]
        }
      ]
    },
    {
      "cell_type": "code",
      "source": [
        "#Q5. Write a Python program to select the specified columns and rows from a given data frame.\n",
        "print(df.iloc[[1,2,3], [1,2]])"
      ],
      "metadata": {
        "colab": {
          "base_uri": "https://localhost:8080/"
        },
        "id": "3glw78razTW5",
        "outputId": "a48afcb1-cb3c-4970-c482-6ab67290314a"
      },
      "execution_count": 60,
      "outputs": [
        {
          "output_type": "stream",
          "name": "stdout",
          "text": [
            "   score  attempts\n",
            "b    9.0         3\n",
            "c   16.5         2\n",
            "d    NaN         3\n"
          ]
        }
      ]
    },
    {
      "cell_type": "code",
      "source": [
        "#Q6. Write a Python program to select the rows where the number of attempts in the examination is greater than 2\n",
        "print(df[df['attempts'] > 2])"
      ],
      "metadata": {
        "colab": {
          "base_uri": "https://localhost:8080/"
        },
        "id": "DSPdBln20J0J",
        "outputId": "14dfa441-248c-47c6-dd36-11358d840183"
      },
      "execution_count": 61,
      "outputs": [
        {
          "output_type": "stream",
          "name": "stdout",
          "text": [
            "      name  score  attempts qualify\n",
            "b     Dima    9.0         3      no\n",
            "d    James    NaN         3      no\n",
            "f  Michael   20.0         3     yes\n"
          ]
        }
      ]
    },
    {
      "cell_type": "code",
      "source": [
        "#Q7. Write a Python program to count the number of rows and columns of a DataFrame\n",
        "print(df.shape)"
      ],
      "metadata": {
        "colab": {
          "base_uri": "https://localhost:8080/"
        },
        "id": "6TaCBKYX1_-Q",
        "outputId": "209ea208-76a6-4622-c1d1-5317de3cb274"
      },
      "execution_count": 62,
      "outputs": [
        {
          "output_type": "stream",
          "name": "stdout",
          "text": [
            "(10, 4)\n"
          ]
        }
      ]
    },
    {
      "cell_type": "code",
      "source": [
        "#Q8. Write a Python program to select the rows where the score is missing, i.e. is NaN.\n",
        "print(df[df['score'].isnull()])"
      ],
      "metadata": {
        "colab": {
          "base_uri": "https://localhost:8080/"
        },
        "id": "CfLrDkAf2IPO",
        "outputId": "f20bc4bb-0a91-4534-dc3b-21e3d4bb9ecf"
      },
      "execution_count": 63,
      "outputs": [
        {
          "output_type": "stream",
          "name": "stdout",
          "text": [
            "    name  score  attempts qualify\n",
            "d  James    NaN         3      no\n",
            "h  Laura    NaN         1      no\n"
          ]
        }
      ]
    },
    {
      "cell_type": "code",
      "source": [
        "#Q9. Write a Python program to select the rows the score is between 15 and 20 (inclusive).\n",
        "print(df[df['score'].between(15, 20)])"
      ],
      "metadata": {
        "colab": {
          "base_uri": "https://localhost:8080/"
        },
        "id": "GdRtrlY12LlF",
        "outputId": "1df79c2e-b1e0-43a4-ebfe-8f7d1461453d"
      },
      "execution_count": 64,
      "outputs": [
        {
          "output_type": "stream",
          "name": "stdout",
          "text": [
            "        name  score  attempts qualify\n",
            "c  Katherine   16.5         2     yes\n",
            "f    Michael   20.0         3     yes\n",
            "j      Jonas   19.0         1     yes\n"
          ]
        }
      ]
    },
    {
      "cell_type": "code",
      "source": [
        "#Q10. Write a Python program to select the rows where number of attempts in the examination is less than 2 and score greater than 15.\n",
        "print(df[(df['attempts'] < 2)  & (df['score'] > 15)])"
      ],
      "metadata": {
        "colab": {
          "base_uri": "https://localhost:8080/"
        },
        "id": "O6W-_hje25cA",
        "outputId": "5aacb6e1-e0a1-47b8-83d8-212f5391fdc4"
      },
      "execution_count": 65,
      "outputs": [
        {
          "output_type": "stream",
          "name": "stdout",
          "text": [
            "    name  score  attempts qualify\n",
            "j  Jonas   19.0         1     yes\n"
          ]
        }
      ]
    },
    {
      "cell_type": "code",
      "source": [
        "#Q11. Write a Python program to change the score in row 'd' to 11.5.\n",
        "df.loc['d', 'score'] = 11.5\n",
        "print(df)"
      ],
      "metadata": {
        "id": "PNw02Jgt3YtY",
        "colab": {
          "base_uri": "https://localhost:8080/"
        },
        "outputId": "f472f7c3-cbd6-418a-87d3-f7a25f6c1949"
      },
      "execution_count": 66,
      "outputs": [
        {
          "output_type": "stream",
          "name": "stdout",
          "text": [
            "        name  score  attempts qualify\n",
            "a  Anastasia   12.5         1     yes\n",
            "b       Dima    9.0         3      no\n",
            "c  Katherine   16.5         2     yes\n",
            "d      James   11.5         3      no\n",
            "e      Emily    9.0         2      no\n",
            "f    Michael   20.0         3     yes\n",
            "g    Matthew   14.5         1     yes\n",
            "h      Laura    NaN         1      no\n",
            "i      Kevin    8.0         2      no\n",
            "j      Jonas   19.0         1     yes\n"
          ]
        }
      ]
    },
    {
      "cell_type": "code",
      "source": [
        "#Q12. Write a Python program to calculate the sum of the examination attempts by the students\n",
        "sum_of_attempts = df['attempts'].sum()\n",
        "print(sum_of_attempts)"
      ],
      "metadata": {
        "colab": {
          "base_uri": "https://localhost:8080/"
        },
        "id": "Umo6ufyxGBL7",
        "outputId": "6c5bbce4-0fbe-4aa0-8cce-71f7adf1db98"
      },
      "execution_count": 67,
      "outputs": [
        {
          "output_type": "stream",
          "name": "stdout",
          "text": [
            "19\n"
          ]
        }
      ]
    },
    {
      "cell_type": "code",
      "source": [
        "#Q13. Write a Python program to calculate the mean score for each different student in DataFrame.\n",
        "mean_score = df['score'].mean()\n",
        "print(f\"{mean_score:.2f}\")"
      ],
      "metadata": {
        "colab": {
          "base_uri": "https://localhost:8080/"
        },
        "id": "LZXFQl5HGDSD",
        "outputId": "eafec7cb-22c7-443a-8d49-af15016593bb"
      },
      "execution_count": 68,
      "outputs": [
        {
          "output_type": "stream",
          "name": "stdout",
          "text": [
            "13.33\n"
          ]
        }
      ]
    },
    {
      "cell_type": "code",
      "source": [
        "#Q14. Write a Python program to append a new row 'k' to data frame with given values for each column. Now delete the new row and return the original DataFrame.\n",
        "print(\"DataFrame with new row 'k':\")\n",
        "df.loc['k'] = ['Suresh', 15.5, 1, 'yes']\n",
        "print(df)\n",
        "\n",
        "print(\"\\nDataFrame after deleting row 'k':\")\n",
        "df = df.drop('k')\n",
        "print(df)"
      ],
      "metadata": {
        "colab": {
          "base_uri": "https://localhost:8080/"
        },
        "id": "6F0RyGDUGGZT",
        "outputId": "d022c48d-98f9-4ac2-8445-c759d7657cc8"
      },
      "execution_count": 69,
      "outputs": [
        {
          "output_type": "stream",
          "name": "stdout",
          "text": [
            "DataFrame with new row 'k':\n",
            "        name  score  attempts qualify\n",
            "a  Anastasia   12.5         1     yes\n",
            "b       Dima    9.0         3      no\n",
            "c  Katherine   16.5         2     yes\n",
            "d      James   11.5         3      no\n",
            "e      Emily    9.0         2      no\n",
            "f    Michael   20.0         3     yes\n",
            "g    Matthew   14.5         1     yes\n",
            "h      Laura    NaN         1      no\n",
            "i      Kevin    8.0         2      no\n",
            "j      Jonas   19.0         1     yes\n",
            "k     Suresh   15.5         1     yes\n",
            "\n",
            "DataFrame after deleting row 'k':\n",
            "        name  score  attempts qualify\n",
            "a  Anastasia   12.5         1     yes\n",
            "b       Dima    9.0         3      no\n",
            "c  Katherine   16.5         2     yes\n",
            "d      James   11.5         3      no\n",
            "e      Emily    9.0         2      no\n",
            "f    Michael   20.0         3     yes\n",
            "g    Matthew   14.5         1     yes\n",
            "h      Laura    NaN         1      no\n",
            "i      Kevin    8.0         2      no\n",
            "j      Jonas   19.0         1     yes\n"
          ]
        }
      ]
    },
    {
      "cell_type": "code",
      "source": [
        "#Q15. Write a Python program to sort the DataFrame first by 'name' in descending order, then by 'score' in ascending order.\n",
        "sorted_df = df.sort_values(by=['name', 'score'], ascending=[False, True])\n",
        "print(sorted_df)"
      ],
      "metadata": {
        "colab": {
          "base_uri": "https://localhost:8080/"
        },
        "id": "YSiovfAGGIO1",
        "outputId": "857a43d7-6953-4778-c29e-b2d36948bc79"
      },
      "execution_count": 70,
      "outputs": [
        {
          "output_type": "stream",
          "name": "stdout",
          "text": [
            "        name  score  attempts qualify\n",
            "f    Michael   20.0         3     yes\n",
            "g    Matthew   14.5         1     yes\n",
            "h      Laura    NaN         1      no\n",
            "i      Kevin    8.0         2      no\n",
            "c  Katherine   16.5         2     yes\n",
            "j      Jonas   19.0         1     yes\n",
            "d      James   11.5         3      no\n",
            "e      Emily    9.0         2      no\n",
            "b       Dima    9.0         3      no\n",
            "a  Anastasia   12.5         1     yes\n"
          ]
        }
      ]
    },
    {
      "cell_type": "code",
      "source": [
        "#Q16. Write a Python program to replace the 'qualify' column contains the values 'yes' and 'no' with True and False.\n",
        "df['qualify'] = df['qualify'].map({'yes': True, 'no': False})\n",
        "print(df)"
      ],
      "metadata": {
        "colab": {
          "base_uri": "https://localhost:8080/"
        },
        "id": "XjVIgRYHGLQv",
        "outputId": "537ec931-0e9d-457a-9663-c181e96c7522"
      },
      "execution_count": 71,
      "outputs": [
        {
          "output_type": "stream",
          "name": "stdout",
          "text": [
            "        name  score  attempts  qualify\n",
            "a  Anastasia   12.5         1     True\n",
            "b       Dima    9.0         3    False\n",
            "c  Katherine   16.5         2     True\n",
            "d      James   11.5         3    False\n",
            "e      Emily    9.0         2    False\n",
            "f    Michael   20.0         3     True\n",
            "g    Matthew   14.5         1     True\n",
            "h      Laura    NaN         1    False\n",
            "i      Kevin    8.0         2    False\n",
            "j      Jonas   19.0         1     True\n"
          ]
        }
      ]
    },
    {
      "cell_type": "code",
      "source": [
        "#Q17. Write a Python program to change the name 'James' to 'Suresh' in name column of the DataFrame.\n",
        "df['name'] = df['name'].replace('James', 'Suresh')\n",
        "print(df)"
      ],
      "metadata": {
        "colab": {
          "base_uri": "https://localhost:8080/"
        },
        "id": "Eor7Tn-_GNAJ",
        "outputId": "2d0aef29-4f64-4e29-caf9-a1fd8fce3b84"
      },
      "execution_count": 72,
      "outputs": [
        {
          "output_type": "stream",
          "name": "stdout",
          "text": [
            "        name  score  attempts  qualify\n",
            "a  Anastasia   12.5         1     True\n",
            "b       Dima    9.0         3    False\n",
            "c  Katherine   16.5         2     True\n",
            "d     Suresh   11.5         3    False\n",
            "e      Emily    9.0         2    False\n",
            "f    Michael   20.0         3     True\n",
            "g    Matthew   14.5         1     True\n",
            "h      Laura    NaN         1    False\n",
            "i      Kevin    8.0         2    False\n",
            "j      Jonas   19.0         1     True\n"
          ]
        }
      ]
    },
    {
      "cell_type": "code",
      "source": [
        "#Q18. Write a Python program to delete the 'attempts' column from the DataFrame.\n",
        "df_no_attempts = df.drop('attempts', axis=1)\n",
        "print(df_no_attempts)"
      ],
      "metadata": {
        "colab": {
          "base_uri": "https://localhost:8080/"
        },
        "id": "r6VuNjdEGRbN",
        "outputId": "6780cfb3-4978-47ca-eed8-784a046f2373"
      },
      "execution_count": 73,
      "outputs": [
        {
          "output_type": "stream",
          "name": "stdout",
          "text": [
            "        name  score  qualify\n",
            "a  Anastasia   12.5     True\n",
            "b       Dima    9.0    False\n",
            "c  Katherine   16.5     True\n",
            "d     Suresh   11.5    False\n",
            "e      Emily    9.0    False\n",
            "f    Michael   20.0     True\n",
            "g    Matthew   14.5     True\n",
            "h      Laura    NaN    False\n",
            "i      Kevin    8.0    False\n",
            "j      Jonas   19.0     True\n"
          ]
        }
      ]
    },
    {
      "cell_type": "code",
      "source": [
        "#Q19. Write a Python program to insert a new column in existing DataFrame.\n",
        "cities = ['California', 'London', 'New York', 'Mumbai', 'Paris', 'Tokyo', 'Sydney', 'Dubai', 'Moscow', 'Berlin']\n",
        "df['city'] = cities\n",
        "print(df)"
      ],
      "metadata": {
        "colab": {
          "base_uri": "https://localhost:8080/"
        },
        "id": "xR-uEqG_GSMw",
        "outputId": "6fbd30ea-f114-49aa-9997-75cc5a8caf5b"
      },
      "execution_count": 74,
      "outputs": [
        {
          "output_type": "stream",
          "name": "stdout",
          "text": [
            "        name  score  attempts  qualify        city\n",
            "a  Anastasia   12.5         1     True  California\n",
            "b       Dima    9.0         3    False      London\n",
            "c  Katherine   16.5         2     True    New York\n",
            "d     Suresh   11.5         3    False      Mumbai\n",
            "e      Emily    9.0         2    False       Paris\n",
            "f    Michael   20.0         3     True       Tokyo\n",
            "g    Matthew   14.5         1     True      Sydney\n",
            "h      Laura    NaN         1    False       Dubai\n",
            "i      Kevin    8.0         2    False      Moscow\n",
            "j      Jonas   19.0         1     True      Berlin\n"
          ]
        }
      ]
    },
    {
      "cell_type": "code",
      "source": [
        "#Q20. Write a Python program to iterate over rows in a DataFrame.\n",
        "for index, row in df.iterrows():\n",
        "    print(f\"Row {index}:\")\n",
        "    print(row)\n",
        "    print(\"-\" * 10)"
      ],
      "metadata": {
        "colab": {
          "base_uri": "https://localhost:8080/"
        },
        "id": "H4Z4ep8XGUyh",
        "outputId": "20d520a3-a124-4aa9-8c09-7a41cef524d2"
      },
      "execution_count": 75,
      "outputs": [
        {
          "output_type": "stream",
          "name": "stdout",
          "text": [
            "Row a:\n",
            "name         Anastasia\n",
            "score             12.5\n",
            "attempts             1\n",
            "qualify           True\n",
            "city        California\n",
            "Name: a, dtype: object\n",
            "----------\n",
            "Row b:\n",
            "name          Dima\n",
            "score          9.0\n",
            "attempts         3\n",
            "qualify      False\n",
            "city        London\n",
            "Name: b, dtype: object\n",
            "----------\n",
            "Row c:\n",
            "name        Katherine\n",
            "score            16.5\n",
            "attempts            2\n",
            "qualify          True\n",
            "city         New York\n",
            "Name: c, dtype: object\n",
            "----------\n",
            "Row d:\n",
            "name        Suresh\n",
            "score         11.5\n",
            "attempts         3\n",
            "qualify      False\n",
            "city        Mumbai\n",
            "Name: d, dtype: object\n",
            "----------\n",
            "Row e:\n",
            "name        Emily\n",
            "score         9.0\n",
            "attempts        2\n",
            "qualify     False\n",
            "city        Paris\n",
            "Name: e, dtype: object\n",
            "----------\n",
            "Row f:\n",
            "name        Michael\n",
            "score          20.0\n",
            "attempts          3\n",
            "qualify        True\n",
            "city          Tokyo\n",
            "Name: f, dtype: object\n",
            "----------\n",
            "Row g:\n",
            "name        Matthew\n",
            "score          14.5\n",
            "attempts          1\n",
            "qualify        True\n",
            "city         Sydney\n",
            "Name: g, dtype: object\n",
            "----------\n",
            "Row h:\n",
            "name        Laura\n",
            "score         NaN\n",
            "attempts        1\n",
            "qualify     False\n",
            "city        Dubai\n",
            "Name: h, dtype: object\n",
            "----------\n",
            "Row i:\n",
            "name         Kevin\n",
            "score          8.0\n",
            "attempts         2\n",
            "qualify      False\n",
            "city        Moscow\n",
            "Name: i, dtype: object\n",
            "----------\n",
            "Row j:\n",
            "name         Jonas\n",
            "score         19.0\n",
            "attempts         1\n",
            "qualify       True\n",
            "city        Berlin\n",
            "Name: j, dtype: object\n",
            "----------\n"
          ]
        }
      ]
    },
    {
      "cell_type": "code",
      "source": [
        "#Q21. Write a Python program to get list from DataFrame column headers.\n",
        "column_headers = df.columns.tolist()\n",
        "print(column_headers)"
      ],
      "metadata": {
        "colab": {
          "base_uri": "https://localhost:8080/"
        },
        "id": "3eUD8aWPGW99",
        "outputId": "40488d0f-ec8d-4e19-eb2c-f3c4aeedb4cb"
      },
      "execution_count": 76,
      "outputs": [
        {
          "output_type": "stream",
          "name": "stdout",
          "text": [
            "['name', 'score', 'attempts', 'qualify', 'city']\n"
          ]
        }
      ]
    }
  ]
}