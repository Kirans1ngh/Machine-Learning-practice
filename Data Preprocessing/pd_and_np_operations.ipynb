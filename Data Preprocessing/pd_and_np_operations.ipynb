{
  "nbformat": 4,
  "nbformat_minor": 0,
  "metadata": {
    "colab": {
      "provenance": [],
      "authorship_tag": "ABX9TyNr83acepvkIGzI/rDXkG6c",
      "include_colab_link": true
    },
    "kernelspec": {
      "name": "python3",
      "display_name": "Python 3"
    },
    "language_info": {
      "name": "python"
    }
  },
  "cells": [
    {
      "cell_type": "markdown",
      "metadata": {
        "id": "view-in-github",
        "colab_type": "text"
      },
      "source": [
        "<a href=\"https://colab.research.google.com/github/Kirans1ngh/Machine-Learning-practice/blob/main/Data%20Preprocessing/pd_and_np_operations.ipynb\" target=\"_parent\"><img src=\"https://colab.research.google.com/assets/colab-badge.svg\" alt=\"Open In Colab\"/></a>"
      ]
    },
    {
      "cell_type": "code",
      "source": [
        "import pandas as pd\n",
        "import numpy as np"
      ],
      "metadata": {
        "id": "2JQfgaIswbdy"
      },
      "execution_count": 31,
      "outputs": []
    },
    {
      "cell_type": "code",
      "execution_count": 32,
      "metadata": {
        "id": "544DVDJuwVEQ"
      },
      "outputs": [],
      "source": [
        "exam_data = {'name': ['Anastasia', 'Dima', 'Katherine', 'James', 'Emily', 'Michael', 'Matthew', 'Laura', 'Kevin', 'Jonas'],\n",
        "'score': [12.5, 9, 16.5, np.nan, 9, 20, 14.5, np.nan, 8, 19],\n",
        "'attempts': [1, 3, 2, 3, 2, 3, 1, 1, 2, 1],\n",
        "'qualify': ['yes', 'no', 'yes', 'no', 'no', 'yes', 'yes', 'no', 'no', 'yes']}\n",
        "labels = ['a', 'b', 'c', 'd', 'e', 'f', 'g', 'h', 'i', 'j']"
      ]
    },
    {
      "cell_type": "code",
      "source": [
        "#Q1. Write a Python program to create and display a DataFrame from a specified dictionary data which has the index labels.\n",
        "df = pd.DataFrame(exam_data, index = labels)\n",
        "print(df)"
      ],
      "metadata": {
        "colab": {
          "base_uri": "https://localhost:8080/"
        },
        "id": "BN2QWTRCwk-r",
        "outputId": "acaf8d19-2a9a-4da3-f209-383eadd825bd"
      },
      "execution_count": 33,
      "outputs": [
        {
          "output_type": "stream",
          "name": "stdout",
          "text": [
            "        name  score  attempts qualify\n",
            "a  Anastasia   12.5         1     yes\n",
            "b       Dima    9.0         3      no\n",
            "c  Katherine   16.5         2     yes\n",
            "d      James    NaN         3      no\n",
            "e      Emily    9.0         2      no\n",
            "f    Michael   20.0         3     yes\n",
            "g    Matthew   14.5         1     yes\n",
            "h      Laura    NaN         1      no\n",
            "i      Kevin    8.0         2      no\n",
            "j      Jonas   19.0         1     yes\n"
          ]
        }
      ]
    },
    {
      "cell_type": "code",
      "source": [
        "#Q2. Write a Python program to display a summary of the basic information about a specified DataFrame and its data\n",
        "df.info()"
      ],
      "metadata": {
        "colab": {
          "base_uri": "https://localhost:8080/"
        },
        "id": "KRF6ApldxM-a",
        "outputId": "b2192ede-9c93-487c-d51c-2a6773b08108"
      },
      "execution_count": 34,
      "outputs": [
        {
          "output_type": "stream",
          "name": "stdout",
          "text": [
            "<class 'pandas.core.frame.DataFrame'>\n",
            "Index: 10 entries, a to j\n",
            "Data columns (total 4 columns):\n",
            " #   Column    Non-Null Count  Dtype  \n",
            "---  ------    --------------  -----  \n",
            " 0   name      10 non-null     object \n",
            " 1   score     8 non-null      float64\n",
            " 2   attempts  10 non-null     int64  \n",
            " 3   qualify   10 non-null     object \n",
            "dtypes: float64(1), int64(1), object(2)\n",
            "memory usage: 400.0+ bytes\n"
          ]
        }
      ]
    },
    {
      "cell_type": "code",
      "source": [
        "#Q3. Write a Python program to get the first 3 rows of a given DataFrame.\n",
        "print(df.head(3))"
      ],
      "metadata": {
        "colab": {
          "base_uri": "https://localhost:8080/"
        },
        "id": "SGwUYX5Rx4r_",
        "outputId": "f4df63f2-6ad2-4c01-e6a6-57ad74e45e66"
      },
      "execution_count": 35,
      "outputs": [
        {
          "output_type": "stream",
          "name": "stdout",
          "text": [
            "        name  score  attempts qualify\n",
            "a  Anastasia   12.5         1     yes\n",
            "b       Dima    9.0         3      no\n",
            "c  Katherine   16.5         2     yes\n"
          ]
        }
      ]
    },
    {
      "cell_type": "code",
      "source": [
        "#Q4. Write a Python program to select the 'name' and 'score' columns from the following DataFrame\n",
        "print(df[['name', \"score\"]])"
      ],
      "metadata": {
        "colab": {
          "base_uri": "https://localhost:8080/"
        },
        "id": "D2x_SMF8ypPc",
        "outputId": "d370d1a8-46b6-4222-bd99-a0621874122c"
      },
      "execution_count": 36,
      "outputs": [
        {
          "output_type": "stream",
          "name": "stdout",
          "text": [
            "        name  score\n",
            "a  Anastasia   12.5\n",
            "b       Dima    9.0\n",
            "c  Katherine   16.5\n",
            "d      James    NaN\n",
            "e      Emily    9.0\n",
            "f    Michael   20.0\n",
            "g    Matthew   14.5\n",
            "h      Laura    NaN\n",
            "i      Kevin    8.0\n",
            "j      Jonas   19.0\n"
          ]
        }
      ]
    },
    {
      "cell_type": "code",
      "source": [
        "#Q5. Write a Python program to select the specified columns and rows from a given data frame.\n",
        "print(df.iloc[[1,2,3], [1,2]])"
      ],
      "metadata": {
        "colab": {
          "base_uri": "https://localhost:8080/"
        },
        "id": "3glw78razTW5",
        "outputId": "98e13fda-07c6-4bf1-8429-5c89e4621674"
      },
      "execution_count": 37,
      "outputs": [
        {
          "output_type": "stream",
          "name": "stdout",
          "text": [
            "   score  attempts\n",
            "b    9.0         3\n",
            "c   16.5         2\n",
            "d    NaN         3\n"
          ]
        }
      ]
    },
    {
      "cell_type": "code",
      "source": [
        "#Q6. Write a Python program to select the rows where the number of attempts in the examination is greater than 2\n",
        "print(df[df['attempts'] > 2])"
      ],
      "metadata": {
        "colab": {
          "base_uri": "https://localhost:8080/"
        },
        "id": "DSPdBln20J0J",
        "outputId": "ac698886-8cb2-409d-fb32-7f4c65296eb4"
      },
      "execution_count": 38,
      "outputs": [
        {
          "output_type": "stream",
          "name": "stdout",
          "text": [
            "      name  score  attempts qualify\n",
            "b     Dima    9.0         3      no\n",
            "d    James    NaN         3      no\n",
            "f  Michael   20.0         3     yes\n"
          ]
        }
      ]
    },
    {
      "cell_type": "code",
      "source": [
        "#Q7. Write a Python program to count the number of rows and columns of a DataFrame\n",
        "print(df.shape)"
      ],
      "metadata": {
        "colab": {
          "base_uri": "https://localhost:8080/"
        },
        "id": "6TaCBKYX1_-Q",
        "outputId": "6da5d9d6-dc0b-4375-8fdb-09ed35695c0b"
      },
      "execution_count": 39,
      "outputs": [
        {
          "output_type": "stream",
          "name": "stdout",
          "text": [
            "(10, 4)\n"
          ]
        }
      ]
    },
    {
      "cell_type": "code",
      "source": [
        "#Q8. Write a Python program to select the rows where the score is missing, i.e. is NaN.\n",
        "print(df[df['score'].isnull()])"
      ],
      "metadata": {
        "colab": {
          "base_uri": "https://localhost:8080/"
        },
        "id": "CfLrDkAf2IPO",
        "outputId": "584a27d2-ec2c-4d01-e552-edbda9a57f80"
      },
      "execution_count": 40,
      "outputs": [
        {
          "output_type": "stream",
          "name": "stdout",
          "text": [
            "    name  score  attempts qualify\n",
            "d  James    NaN         3      no\n",
            "h  Laura    NaN         1      no\n"
          ]
        }
      ]
    },
    {
      "cell_type": "code",
      "source": [
        "#Q9. Write a Python program to select the rows the score is between 15 and 20 (inclusive).\n",
        "print(df[df['score'].between(15, 20)])"
      ],
      "metadata": {
        "colab": {
          "base_uri": "https://localhost:8080/"
        },
        "id": "GdRtrlY12LlF",
        "outputId": "0ee1fd60-9b87-4a70-e029-09f8cd6f0c4e"
      },
      "execution_count": 41,
      "outputs": [
        {
          "output_type": "stream",
          "name": "stdout",
          "text": [
            "        name  score  attempts qualify\n",
            "c  Katherine   16.5         2     yes\n",
            "f    Michael   20.0         3     yes\n",
            "j      Jonas   19.0         1     yes\n"
          ]
        }
      ]
    },
    {
      "cell_type": "code",
      "source": [
        "#Q10. Write a Python program to select the rows where number of attempts in the examination is less than 2 and score greater than 15.\n",
        "print(df[(df['attempts'] < 2)  & (df['score'] > 15)])"
      ],
      "metadata": {
        "colab": {
          "base_uri": "https://localhost:8080/"
        },
        "id": "O6W-_hje25cA",
        "outputId": "cb2ff2c6-c5b4-4f33-b150-18f2c4bcca49"
      },
      "execution_count": 42,
      "outputs": [
        {
          "output_type": "stream",
          "name": "stdout",
          "text": [
            "    name  score  attempts qualify\n",
            "j  Jonas   19.0         1     yes\n"
          ]
        }
      ]
    },
    {
      "cell_type": "code",
      "source": [
        "#Q11. Write a Python program to change the score in row 'd' to 11.5.\n",
        "print(\"\\nQ11: Change score in row 'd' to 11.5\")\n",
        "df.loc['d', 'score'] = 11.5\n",
        "print(df)"
      ],
      "metadata": {
        "id": "PNw02Jgt3YtY",
        "colab": {
          "base_uri": "https://localhost:8080/"
        },
        "outputId": "ce4b0cc1-5486-4843-ede9-904f94d3827e"
      },
      "execution_count": 43,
      "outputs": [
        {
          "output_type": "stream",
          "name": "stdout",
          "text": [
            "\n",
            "Q11: Change score in row 'd' to 11.5\n",
            "        name  score  attempts qualify\n",
            "a  Anastasia   12.5         1     yes\n",
            "b       Dima    9.0         3      no\n",
            "c  Katherine   16.5         2     yes\n",
            "d      James   11.5         3      no\n",
            "e      Emily    9.0         2      no\n",
            "f    Michael   20.0         3     yes\n",
            "g    Matthew   14.5         1     yes\n",
            "h      Laura    NaN         1      no\n",
            "i      Kevin    8.0         2      no\n",
            "j      Jonas   19.0         1     yes\n"
          ]
        }
      ]
    },
    {
      "cell_type": "code",
      "source": [
        "#Q12. Write a Python program to calculate the sum of the examination attempts by the students\n",
        "print(\"\\nQ12: Sum of examination attempts\")\n",
        "sum_of_attempts = df['attempts'].sum()\n",
        "print(sum_of_attempts)"
      ],
      "metadata": {
        "colab": {
          "base_uri": "https://localhost:8080/"
        },
        "id": "Umo6ufyxGBL7",
        "outputId": "0ae7b771-11f5-4b43-f5aa-850aeb1dd12f"
      },
      "execution_count": 44,
      "outputs": [
        {
          "output_type": "stream",
          "name": "stdout",
          "text": [
            "\n",
            "Q12: Sum of examination attempts\n",
            "19\n"
          ]
        }
      ]
    },
    {
      "cell_type": "code",
      "source": [
        "#Q13. Write a Python program to calculate the mean score for each different student in DataFrame.\n",
        "print(\"\\nQ13: Mean score of all students\")\n",
        "mean_score = df['score'].mean()\n",
        "print(f\"{mean_score:.2f}\")"
      ],
      "metadata": {
        "colab": {
          "base_uri": "https://localhost:8080/"
        },
        "id": "LZXFQl5HGDSD",
        "outputId": "2e53a03d-6fb7-427e-a16c-aac94c5da0e1"
      },
      "execution_count": 45,
      "outputs": [
        {
          "output_type": "stream",
          "name": "stdout",
          "text": [
            "\n",
            "Q13: Mean score of all students\n",
            "13.33\n"
          ]
        }
      ]
    },
    {
      "cell_type": "code",
      "source": [
        "#Q14. Write a Python program to append a new row 'k' to data frame with given values for each column. Now delete the new row and return the original DataFrame.\n",
        "print(\"\\nQ14: Append row 'k' and then delete it\")\n",
        "print(\"DataFrame with new row 'k':\")\n",
        "df.loc['k'] = ['Suresh', 15.5, 1, 'yes']\n",
        "print(df)\n",
        "\n",
        "print(\"\\nDataFrame after deleting row 'k':\")\n",
        "df = df.drop('k')\n",
        "print(df)"
      ],
      "metadata": {
        "colab": {
          "base_uri": "https://localhost:8080/"
        },
        "id": "6F0RyGDUGGZT",
        "outputId": "4002f412-201b-471b-fe96-ba2f294b7eae"
      },
      "execution_count": 46,
      "outputs": [
        {
          "output_type": "stream",
          "name": "stdout",
          "text": [
            "\n",
            "Q14: Append row 'k' and then delete it\n",
            "DataFrame with new row 'k':\n",
            "        name  score  attempts qualify\n",
            "a  Anastasia   12.5         1     yes\n",
            "b       Dima    9.0         3      no\n",
            "c  Katherine   16.5         2     yes\n",
            "d      James   11.5         3      no\n",
            "e      Emily    9.0         2      no\n",
            "f    Michael   20.0         3     yes\n",
            "g    Matthew   14.5         1     yes\n",
            "h      Laura    NaN         1      no\n",
            "i      Kevin    8.0         2      no\n",
            "j      Jonas   19.0         1     yes\n",
            "k     Suresh   15.5         1     yes\n",
            "\n",
            "DataFrame after deleting row 'k':\n",
            "        name  score  attempts qualify\n",
            "a  Anastasia   12.5         1     yes\n",
            "b       Dima    9.0         3      no\n",
            "c  Katherine   16.5         2     yes\n",
            "d      James   11.5         3      no\n",
            "e      Emily    9.0         2      no\n",
            "f    Michael   20.0         3     yes\n",
            "g    Matthew   14.5         1     yes\n",
            "h      Laura    NaN         1      no\n",
            "i      Kevin    8.0         2      no\n",
            "j      Jonas   19.0         1     yes\n"
          ]
        }
      ]
    },
    {
      "cell_type": "code",
      "source": [
        "#Q15. Write a Python program to sort the DataFrame first by 'name' in descending order, then by 'score' in ascending order.\n",
        "print(\"\\nQ15: Sort by name (desc) and score (asc)\")\n",
        "sorted_df = df.sort_values(by=['name', 'score'], ascending=[False, True])\n",
        "print(sorted_df)"
      ],
      "metadata": {
        "colab": {
          "base_uri": "https://localhost:8080/"
        },
        "id": "YSiovfAGGIO1",
        "outputId": "50949cd8-f0eb-4e7e-8270-246cd5b8ef53"
      },
      "execution_count": 47,
      "outputs": [
        {
          "output_type": "stream",
          "name": "stdout",
          "text": [
            "\n",
            "Q15: Sort by name (desc) and score (asc)\n",
            "        name  score  attempts qualify\n",
            "f    Michael   20.0         3     yes\n",
            "g    Matthew   14.5         1     yes\n",
            "h      Laura    NaN         1      no\n",
            "i      Kevin    8.0         2      no\n",
            "c  Katherine   16.5         2     yes\n",
            "j      Jonas   19.0         1     yes\n",
            "d      James   11.5         3      no\n",
            "e      Emily    9.0         2      no\n",
            "b       Dima    9.0         3      no\n",
            "a  Anastasia   12.5         1     yes\n"
          ]
        }
      ]
    },
    {
      "cell_type": "code",
      "source": [
        "#Q16. Write a Python program to replace the 'qualify' column contains the values 'yes' and 'no' with True and False.\n",
        "print(\"\\nQ16: Replace 'qualify' values with Booleans\")\n",
        "df['qualify'] = df['qualify'].map({'yes': True, 'no': False})\n",
        "print(df)"
      ],
      "metadata": {
        "colab": {
          "base_uri": "https://localhost:8080/"
        },
        "id": "XjVIgRYHGLQv",
        "outputId": "fedd1dc8-705b-4b63-ad9e-6e691396038d"
      },
      "execution_count": 48,
      "outputs": [
        {
          "output_type": "stream",
          "name": "stdout",
          "text": [
            "\n",
            "Q16: Replace 'qualify' values with Booleans\n",
            "        name  score  attempts  qualify\n",
            "a  Anastasia   12.5         1     True\n",
            "b       Dima    9.0         3    False\n",
            "c  Katherine   16.5         2     True\n",
            "d      James   11.5         3    False\n",
            "e      Emily    9.0         2    False\n",
            "f    Michael   20.0         3     True\n",
            "g    Matthew   14.5         1     True\n",
            "h      Laura    NaN         1    False\n",
            "i      Kevin    8.0         2    False\n",
            "j      Jonas   19.0         1     True\n"
          ]
        }
      ]
    },
    {
      "cell_type": "code",
      "source": [
        "#Q17. Write a Python program to change the name 'James' to 'Suresh' in name column of the DataFrame.\n",
        "print(\"\\nQ17: Change the name 'James' to 'Suresh'\")\n",
        "df['name'] = df['name'].replace('James', 'Suresh')\n",
        "print(df)"
      ],
      "metadata": {
        "colab": {
          "base_uri": "https://localhost:8080/"
        },
        "id": "Eor7Tn-_GNAJ",
        "outputId": "3f65aab1-ea2c-4c9c-8af5-5b19f613c48f"
      },
      "execution_count": 49,
      "outputs": [
        {
          "output_type": "stream",
          "name": "stdout",
          "text": [
            "\n",
            "Q17: Change the name 'James' to 'Suresh'\n",
            "        name  score  attempts  qualify\n",
            "a  Anastasia   12.5         1     True\n",
            "b       Dima    9.0         3    False\n",
            "c  Katherine   16.5         2     True\n",
            "d     Suresh   11.5         3    False\n",
            "e      Emily    9.0         2    False\n",
            "f    Michael   20.0         3     True\n",
            "g    Matthew   14.5         1     True\n",
            "h      Laura    NaN         1    False\n",
            "i      Kevin    8.0         2    False\n",
            "j      Jonas   19.0         1     True\n"
          ]
        }
      ]
    },
    {
      "cell_type": "code",
      "source": [
        "#Q18. Write a Python program to delete the 'attempts' column from the DataFrame.\n",
        "print(\"\\nQ18: Delete the 'attempts' column\")\n",
        "df_no_attempts = df.drop('attempts', axis=1)\n",
        "print(df_no_attempts)"
      ],
      "metadata": {
        "colab": {
          "base_uri": "https://localhost:8080/"
        },
        "id": "r6VuNjdEGRbN",
        "outputId": "4968db4b-4611-4de7-bec7-a71eac8e5c57"
      },
      "execution_count": 50,
      "outputs": [
        {
          "output_type": "stream",
          "name": "stdout",
          "text": [
            "\n",
            "Q18: Delete the 'attempts' column\n",
            "        name  score  qualify\n",
            "a  Anastasia   12.5     True\n",
            "b       Dima    9.0    False\n",
            "c  Katherine   16.5     True\n",
            "d     Suresh   11.5    False\n",
            "e      Emily    9.0    False\n",
            "f    Michael   20.0     True\n",
            "g    Matthew   14.5     True\n",
            "h      Laura    NaN    False\n",
            "i      Kevin    8.0    False\n",
            "j      Jonas   19.0     True\n"
          ]
        }
      ]
    },
    {
      "cell_type": "code",
      "source": [
        "#Q19. Write a Python program to insert a new column in existing DataFrame.\n",
        "print(\"\\nQ19: Insert a new column 'city'\")\n",
        "cities = ['California', 'London', 'New York', 'Mumbai', 'Paris', 'Tokyo', 'Sydney', 'Dubai', 'Moscow', 'Berlin']\n",
        "df['city'] = cities\n",
        "print(df)"
      ],
      "metadata": {
        "colab": {
          "base_uri": "https://localhost:8080/"
        },
        "id": "xR-uEqG_GSMw",
        "outputId": "5667be0d-8541-4f03-b687-e268abe4a316"
      },
      "execution_count": 51,
      "outputs": [
        {
          "output_type": "stream",
          "name": "stdout",
          "text": [
            "\n",
            "Q19: Insert a new column 'city'\n",
            "        name  score  attempts  qualify        city\n",
            "a  Anastasia   12.5         1     True  California\n",
            "b       Dima    9.0         3    False      London\n",
            "c  Katherine   16.5         2     True    New York\n",
            "d     Suresh   11.5         3    False      Mumbai\n",
            "e      Emily    9.0         2    False       Paris\n",
            "f    Michael   20.0         3     True       Tokyo\n",
            "g    Matthew   14.5         1     True      Sydney\n",
            "h      Laura    NaN         1    False       Dubai\n",
            "i      Kevin    8.0         2    False      Moscow\n",
            "j      Jonas   19.0         1     True      Berlin\n"
          ]
        }
      ]
    },
    {
      "cell_type": "code",
      "source": [
        "#Q20. Write a Python program to iterate over rows in a DataFrame.\n",
        "print(\"\\nQ20: Iterate over rows\")\n",
        "for index, row in df.iterrows():\n",
        "    print(f\"Row {index}:\")\n",
        "    print(row)\n",
        "    print(\"-\" * 10)"
      ],
      "metadata": {
        "colab": {
          "base_uri": "https://localhost:8080/"
        },
        "id": "H4Z4ep8XGUyh",
        "outputId": "394fa403-2ab4-47c6-9833-2ce03559efc3"
      },
      "execution_count": 52,
      "outputs": [
        {
          "output_type": "stream",
          "name": "stdout",
          "text": [
            "\n",
            "Q20: Iterate over rows\n",
            "Row a:\n",
            "name         Anastasia\n",
            "score             12.5\n",
            "attempts             1\n",
            "qualify           True\n",
            "city        California\n",
            "Name: a, dtype: object\n",
            "----------\n",
            "Row b:\n",
            "name          Dima\n",
            "score          9.0\n",
            "attempts         3\n",
            "qualify      False\n",
            "city        London\n",
            "Name: b, dtype: object\n",
            "----------\n",
            "Row c:\n",
            "name        Katherine\n",
            "score            16.5\n",
            "attempts            2\n",
            "qualify          True\n",
            "city         New York\n",
            "Name: c, dtype: object\n",
            "----------\n",
            "Row d:\n",
            "name        Suresh\n",
            "score         11.5\n",
            "attempts         3\n",
            "qualify      False\n",
            "city        Mumbai\n",
            "Name: d, dtype: object\n",
            "----------\n",
            "Row e:\n",
            "name        Emily\n",
            "score         9.0\n",
            "attempts        2\n",
            "qualify     False\n",
            "city        Paris\n",
            "Name: e, dtype: object\n",
            "----------\n",
            "Row f:\n",
            "name        Michael\n",
            "score          20.0\n",
            "attempts          3\n",
            "qualify        True\n",
            "city          Tokyo\n",
            "Name: f, dtype: object\n",
            "----------\n",
            "Row g:\n",
            "name        Matthew\n",
            "score          14.5\n",
            "attempts          1\n",
            "qualify        True\n",
            "city         Sydney\n",
            "Name: g, dtype: object\n",
            "----------\n",
            "Row h:\n",
            "name        Laura\n",
            "score         NaN\n",
            "attempts        1\n",
            "qualify     False\n",
            "city        Dubai\n",
            "Name: h, dtype: object\n",
            "----------\n",
            "Row i:\n",
            "name         Kevin\n",
            "score          8.0\n",
            "attempts         2\n",
            "qualify      False\n",
            "city        Moscow\n",
            "Name: i, dtype: object\n",
            "----------\n",
            "Row j:\n",
            "name         Jonas\n",
            "score         19.0\n",
            "attempts         1\n",
            "qualify       True\n",
            "city        Berlin\n",
            "Name: j, dtype: object\n",
            "----------\n"
          ]
        }
      ]
    },
    {
      "cell_type": "code",
      "source": [
        "#Q21. Write a Python program to get list from DataFrame column headers.\n",
        "print(\"\\nQ21: Get list of column headers\")\n",
        "column_headers = df.columns.tolist()\n",
        "print(column_headers)"
      ],
      "metadata": {
        "colab": {
          "base_uri": "https://localhost:8080/"
        },
        "id": "3eUD8aWPGW99",
        "outputId": "a2f0bdd3-48a0-475d-9670-a06df9a07bb2"
      },
      "execution_count": 53,
      "outputs": [
        {
          "output_type": "stream",
          "name": "stdout",
          "text": [
            "\n",
            "Q21: Get list of column headers\n",
            "['name', 'score', 'attempts', 'qualify', 'city']\n"
          ]
        }
      ]
    }
  ]
}